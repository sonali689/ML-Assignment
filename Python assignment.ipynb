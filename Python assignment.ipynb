{
 "cells": [
  {
   "cell_type": "markdown",
   "id": "e4a8126c",
   "metadata": {},
   "source": [
    "# Python Assignment"
   ]
  },
  {
   "cell_type": "markdown",
   "id": "3ab3b98d",
   "metadata": {},
   "source": [
    "## Functions and methods"
   ]
  },
  {
   "cell_type": "code",
   "execution_count": 5,
   "id": "516834ed",
   "metadata": {},
   "outputs": [],
   "source": [
    "import math\n",
    "def vol(rad):\n",
    "    return (4*(math.pi)*rad**3)/3"
   ]
  },
  {
   "cell_type": "code",
   "execution_count": 6,
   "id": "eb3dc710",
   "metadata": {},
   "outputs": [
    {
     "name": "stdout",
     "output_type": "stream",
     "text": [
      "33.510321638291124\n"
     ]
    }
   ],
   "source": [
    "volume = vol(2)\n",
    "print(volume)"
   ]
  },
  {
   "cell_type": "code",
   "execution_count": 25,
   "id": "7fbfe849",
   "metadata": {},
   "outputs": [],
   "source": [
    "def ran_check(num, low, high):\n",
    "    if low<=num<=high:\n",
    "        print(f\"{num} is in the range between {low} and {high}\")\n",
    "    else: print(f\"{num} is not in range\")\n",
    "    return num"
   ]
  },
  {
   "cell_type": "code",
   "execution_count": 26,
   "id": "573f6817",
   "metadata": {},
   "outputs": [
    {
     "name": "stdout",
     "output_type": "stream",
     "text": [
      "6 is in the range between 5 and 7\n"
     ]
    }
   ],
   "source": [
    "check = ran_check(6,5,7)"
   ]
  },
  {
   "cell_type": "code",
   "execution_count": 33,
   "id": "494c0cae",
   "metadata": {},
   "outputs": [
    {
     "name": "stdout",
     "output_type": "stream",
     "text": [
      "No. of upper case characters = 2\n",
      "No. of lower case characters = 8\n"
     ]
    }
   ],
   "source": [
    "def up_low(s):\n",
    "    num_upper = 0\n",
    "    num_lower = 0\n",
    "\n",
    "    for char in s:\n",
    "        num_upper += int(char.isupper())\n",
    "        num_lower += int(char.islower())\n",
    "\n",
    "    print(f\"No. of upper case characters = {num_upper}\")\n",
    "    print(f\"No. of lower case characters = {num_lower}\")\n",
    "\n",
    "# Example usage:\n",
    "s = \"Hello World!\"\n",
    "up_low(s)"
   ]
  },
  {
   "cell_type": "code",
   "execution_count": 34,
   "id": "567607d7",
   "metadata": {},
   "outputs": [
    {
     "name": "stdout",
     "output_type": "stream",
     "text": [
      "No. of upper case characters = 4\n",
      "No. of lower case characters = 33\n"
     ]
    }
   ],
   "source": [
    "s = 'Hello Mr. Rogers, how are you this fine Tuesday?'\n",
    "up_low(s)"
   ]
  },
  {
   "cell_type": "code",
   "execution_count": 46,
   "id": "ca10f263",
   "metadata": {},
   "outputs": [],
   "source": [
    "def unique_list(lst):\n",
    "    new_list = []\n",
    "    for num in lst:\n",
    "        if num not in new_list:\n",
    "            new_list.append(num)\n",
    "    return new_list"
   ]
  },
  {
   "cell_type": "code",
   "execution_count": 47,
   "id": "b28446ef",
   "metadata": {},
   "outputs": [
    {
     "data": {
      "text/plain": [
       "[1, 2, 3, 4, 5]"
      ]
     },
     "execution_count": 47,
     "metadata": {},
     "output_type": "execute_result"
    }
   ],
   "source": [
    "unique_list([1,1,1,1,2,2,3,3,3,3,4,5])"
   ]
  },
  {
   "cell_type": "code",
   "execution_count": 57,
   "id": "52579793",
   "metadata": {},
   "outputs": [],
   "source": [
    "def multiply(lst):\n",
    "    mult = 1\n",
    "    for num in lst:\n",
    "        mult = mult*num\n",
    "    print(mult)\n",
    "    return mult"
   ]
  },
  {
   "cell_type": "code",
   "execution_count": 58,
   "id": "d40cabda",
   "metadata": {},
   "outputs": [
    {
     "name": "stdout",
     "output_type": "stream",
     "text": [
      "-24\n"
     ]
    }
   ],
   "source": [
    "new = multiply([1,2,3,-4])"
   ]
  },
  {
   "cell_type": "code",
   "execution_count": 23,
   "id": "1826a726",
   "metadata": {},
   "outputs": [],
   "source": [
    "def palindrome(s):\n",
    "    n = len(s)\n",
    "    arr = list(s)\n",
    "    for i in range (n//2):\n",
    "        if arr[i] == arr[n - i-1]:\n",
    "            return \"is a palindrome\"\n",
    "        else:\n",
    "            return \"Not a palindrome\"\n",
    "                \n",
    "        "
   ]
  },
  {
   "cell_type": "code",
   "execution_count": 24,
   "id": "ed2f11b2",
   "metadata": {},
   "outputs": [
    {
     "data": {
      "text/plain": [
       "'Not a palindrome'"
      ]
     },
     "execution_count": 24,
     "metadata": {},
     "output_type": "execute_result"
    }
   ],
   "source": [
    "check = palindrome('hello')\n",
    "check"
   ]
  },
  {
   "cell_type": "code",
   "execution_count": 10,
   "id": "18c878ab",
   "metadata": {},
   "outputs": [],
   "source": [
    "import string\n",
    "\n",
    "def ispangram(str1, alphabet=string.ascii_lowercase):\n",
    "    alphabet_set = set(alphabet)\n",
    "    \n",
    "    set1 = set(str1.lower())\n",
    "    \n",
    "    if alphabet_set.issubset(set1):\n",
    "        return True\n",
    "    else:\n",
    "        return False\n"
   ]
  },
  {
   "cell_type": "code",
   "execution_count": 11,
   "id": "12b98a0c",
   "metadata": {},
   "outputs": [
    {
     "data": {
      "text/plain": [
       "True"
      ]
     },
     "execution_count": 11,
     "metadata": {},
     "output_type": "execute_result"
    }
   ],
   "source": [
    "ispangram(\"The quick brown fox jumps over the lazy dog\")"
   ]
  },
  {
   "cell_type": "markdown",
   "id": "ec4b46c3",
   "metadata": {},
   "source": [
    "## Statements Assessment Test"
   ]
  },
  {
   "cell_type": "markdown",
   "id": "95e1ffa5",
   "metadata": {},
   "source": [
    "#### Use for, .split(), and if to create a Statement that will print out words that start with 's':"
   ]
  },
  {
   "cell_type": "code",
   "execution_count": 1,
   "id": "2a493547",
   "metadata": {},
   "outputs": [
    {
     "name": "stdout",
     "output_type": "stream",
     "text": [
      "start\n",
      "s\n",
      "sentence\n"
     ]
    }
   ],
   "source": [
    "st = 'Print only the words that start with s in this sentence'\n",
    "\n",
    "words = st.split()\n",
    "\n",
    "for word in words:\n",
    "    if word.startswith('s'):\n",
    "        print(word)"
   ]
  },
  {
   "cell_type": "markdown",
   "id": "1b555ca8",
   "metadata": {},
   "source": [
    "#### Use range() to print all the even numbers from 0 to 10."
   ]
  },
  {
   "cell_type": "code",
   "execution_count": 2,
   "id": "ab737baf",
   "metadata": {},
   "outputs": [
    {
     "name": "stdout",
     "output_type": "stream",
     "text": [
      "0\n",
      "2\n",
      "4\n",
      "6\n",
      "8\n",
      "10\n"
     ]
    }
   ],
   "source": [
    "for i in range (0,11):\n",
    "    if i%2==0:\n",
    "        print(i)"
   ]
  },
  {
   "cell_type": "markdown",
   "id": "49f6a805",
   "metadata": {},
   "source": [
    "#### Use a List Comprehension to create a list of all numbers between 1 and 50 that are divisible by 3."
   ]
  },
  {
   "cell_type": "code",
   "execution_count": 4,
   "id": "1d82b812",
   "metadata": {},
   "outputs": [
    {
     "name": "stdout",
     "output_type": "stream",
     "text": [
      "[3, 6, 9, 12, 15, 18, 21, 24, 27, 30, 33, 36, 39, 42, 45, 48]\n"
     ]
    }
   ],
   "source": [
    "num = []\n",
    "for i in range (1,50):\n",
    "    if i%3==0:\n",
    "        num.append(i)\n",
    "\n",
    "print(num)"
   ]
  },
  {
   "cell_type": "markdown",
   "id": "fbe4a429",
   "metadata": {},
   "source": [
    "#### Go through the string below and if the length of a word is even print \"even!\""
   ]
  },
  {
   "cell_type": "code",
   "execution_count": null,
   "id": "3aa33555",
   "metadata": {},
   "outputs": [],
   "source": [
    "st = 'Print every word in this sentence that has an even number of letters'"
   ]
  },
  {
   "cell_type": "code",
   "execution_count": 5,
   "id": "d69a909a",
   "metadata": {},
   "outputs": [
    {
     "name": "stdout",
     "output_type": "stream",
     "text": [
      "even!\n",
      "even!\n",
      "even!\n",
      "even!\n",
      "even!\n",
      "even!\n"
     ]
    }
   ],
   "source": [
    "words = st.split()\n",
    "\n",
    "for word in words:\n",
    "    if len(word)%2==0:\n",
    "        print(\"even!\")"
   ]
  },
  {
   "cell_type": "markdown",
   "id": "f575bc9f",
   "metadata": {},
   "source": [
    "#### Write a program that prints the integers from 1 to 100. But for multiples of three print \"Fizz\" instead of the number, and for the multiples of five print \"Buzz\". For numbers which are multiples of both three and five print \"FizzBuzz\"."
   ]
  },
  {
   "cell_type": "code",
   "execution_count": 6,
   "id": "0d822b91",
   "metadata": {},
   "outputs": [
    {
     "name": "stdout",
     "output_type": "stream",
     "text": [
      "1\n",
      "2\n",
      "Fizz\n",
      "4\n",
      "Buzz\n",
      "Fizz\n",
      "7\n",
      "8\n",
      "Fizz\n",
      "Buzz\n",
      "11\n",
      "Fizz\n",
      "13\n",
      "14\n",
      "Fizz\n",
      "16\n",
      "17\n",
      "Fizz\n",
      "19\n",
      "Buzz\n",
      "Fizz\n",
      "22\n",
      "23\n",
      "Fizz\n",
      "Buzz\n",
      "26\n",
      "Fizz\n",
      "28\n",
      "29\n",
      "Fizz\n",
      "31\n",
      "32\n",
      "Fizz\n",
      "34\n",
      "Buzz\n",
      "Fizz\n",
      "37\n",
      "38\n",
      "Fizz\n",
      "Buzz\n",
      "41\n",
      "Fizz\n",
      "43\n",
      "44\n",
      "Fizz\n",
      "46\n",
      "47\n",
      "Fizz\n",
      "49\n",
      "Buzz\n",
      "Fizz\n",
      "52\n",
      "53\n",
      "Fizz\n",
      "Buzz\n",
      "56\n",
      "Fizz\n",
      "58\n",
      "59\n",
      "Fizz\n",
      "61\n",
      "62\n",
      "Fizz\n",
      "64\n",
      "Buzz\n",
      "Fizz\n",
      "67\n",
      "68\n",
      "Fizz\n",
      "Buzz\n",
      "71\n",
      "Fizz\n",
      "73\n",
      "74\n",
      "Fizz\n",
      "76\n",
      "77\n",
      "Fizz\n",
      "79\n",
      "Buzz\n",
      "Fizz\n",
      "82\n",
      "83\n",
      "Fizz\n",
      "Buzz\n",
      "86\n",
      "Fizz\n",
      "88\n",
      "89\n",
      "Fizz\n",
      "91\n",
      "92\n",
      "Fizz\n",
      "94\n",
      "Buzz\n",
      "Fizz\n",
      "97\n",
      "98\n",
      "Fizz\n",
      "Buzz\n"
     ]
    }
   ],
   "source": [
    "for num in range (1,101):\n",
    "    if num%3==0:\n",
    "        print(\"Fizz\")\n",
    "    elif num%5==0:\n",
    "        print(\"Buzz\")\n",
    "    elif num%3==0 and num%5==0:\n",
    "        print(\"FizzBuzz\")\n",
    "    else: print(num)"
   ]
  },
  {
   "cell_type": "markdown",
   "id": "0085328a",
   "metadata": {},
   "source": [
    "#### Use List Comprehension to create a list of the first letters of every word in the string below:"
   ]
  },
  {
   "cell_type": "code",
   "execution_count": 9,
   "id": "dbaaf0cd",
   "metadata": {},
   "outputs": [
    {
     "name": "stdout",
     "output_type": "stream",
     "text": [
      "C\n",
      "a\n",
      "l\n",
      "o\n",
      "t\n",
      "f\n",
      "l\n",
      "o\n",
      "e\n",
      "w\n",
      "i\n",
      "t\n",
      "s\n"
     ]
    }
   ],
   "source": [
    "st = 'Create a list of the first letters of every word in this string'\n",
    "first_letter = []\n",
    "words = st.split()\n",
    "\n",
    "for word in words:\n",
    "    print(word[0])\n"
   ]
  },
  {
   "cell_type": "code",
   "execution_count": null,
   "id": "79b90932",
   "metadata": {},
   "outputs": [],
   "source": []
  }
 ],
 "metadata": {
  "kernelspec": {
   "display_name": "Python 3 (ipykernel)",
   "language": "python",
   "name": "python3"
  },
  "language_info": {
   "codemirror_mode": {
    "name": "ipython",
    "version": 3
   },
   "file_extension": ".py",
   "mimetype": "text/x-python",
   "name": "python",
   "nbconvert_exporter": "python",
   "pygments_lexer": "ipython3",
   "version": "3.11.5"
  }
 },
 "nbformat": 4,
 "nbformat_minor": 5
}
